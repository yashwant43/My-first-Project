{
  "nbformat": 4,
  "nbformat_minor": 0,
  "metadata": {
    "colab": {
      "name": "Untitled3.ipynb",
      "provenance": []
    },
    "kernelspec": {
      "name": "python3",
      "display_name": "Python 3"
    }
  },
  "cells": [
    {
      "cell_type": "code",
      "metadata": {
        "id": "dQlfHCYUYrV8",
        "colab_type": "code",
        "colab": {
          "base_uri": "https://localhost:8080/",
          "height": 581
        },
        "outputId": "c4c72cbe-0c26-4ef5-bd52-d42d62235eab"
      },
      "source": [
        "\n",
        "!pip install pandas\n",
        "!pip install tweepy\n",
        "!pip install vaderSentiment\n",
        "!pip install twython"
      ],
      "execution_count": 3,
      "outputs": [
        {
          "output_type": "stream",
          "text": [
            "Requirement already satisfied: pandas in /usr/local/lib/python3.6/dist-packages (0.25.3)\n",
            "Requirement already satisfied: pytz>=2017.2 in /usr/local/lib/python3.6/dist-packages (from pandas) (2018.9)\n",
            "Requirement already satisfied: numpy>=1.13.3 in /usr/local/lib/python3.6/dist-packages (from pandas) (1.17.3)\n",
            "Requirement already satisfied: python-dateutil>=2.6.1 in /usr/local/lib/python3.6/dist-packages (from pandas) (2.6.1)\n",
            "Requirement already satisfied: six>=1.5 in /usr/local/lib/python3.6/dist-packages (from python-dateutil>=2.6.1->pandas) (1.12.0)\n",
            "Requirement already satisfied: tweepy in /usr/local/lib/python3.6/dist-packages (3.6.0)\n",
            "Requirement already satisfied: PySocks>=1.5.7 in /usr/local/lib/python3.6/dist-packages (from tweepy) (1.7.1)\n",
            "Requirement already satisfied: requests>=2.11.1 in /usr/local/lib/python3.6/dist-packages (from tweepy) (2.21.0)\n",
            "Requirement already satisfied: requests-oauthlib>=0.7.0 in /usr/local/lib/python3.6/dist-packages (from tweepy) (1.2.0)\n",
            "Requirement already satisfied: six>=1.10.0 in /usr/local/lib/python3.6/dist-packages (from tweepy) (1.12.0)\n",
            "Requirement already satisfied: certifi>=2017.4.17 in /usr/local/lib/python3.6/dist-packages (from requests>=2.11.1->tweepy) (2019.9.11)\n",
            "Requirement already satisfied: idna<2.9,>=2.5 in /usr/local/lib/python3.6/dist-packages (from requests>=2.11.1->tweepy) (2.8)\n",
            "Requirement already satisfied: urllib3<1.25,>=1.21.1 in /usr/local/lib/python3.6/dist-packages (from requests>=2.11.1->tweepy) (1.24.3)\n",
            "Requirement already satisfied: chardet<3.1.0,>=3.0.2 in /usr/local/lib/python3.6/dist-packages (from requests>=2.11.1->tweepy) (3.0.4)\n",
            "Requirement already satisfied: oauthlib>=3.0.0 in /usr/local/lib/python3.6/dist-packages (from requests-oauthlib>=0.7.0->tweepy) (3.1.0)\n",
            "Requirement already satisfied: vaderSentiment in /usr/local/lib/python3.6/dist-packages (3.2.1)\n",
            "Collecting twython\n",
            "  Downloading https://files.pythonhosted.org/packages/8c/2b/c0883f05b03a8e87787d56395d6c89515fe7e0bf80abd3778b6bb3a6873f/twython-3.7.0.tar.gz\n",
            "Requirement already satisfied: requests>=2.1.0 in /usr/local/lib/python3.6/dist-packages (from twython) (2.21.0)\n",
            "Requirement already satisfied: requests_oauthlib>=0.4.0 in /usr/local/lib/python3.6/dist-packages (from twython) (1.2.0)\n",
            "Requirement already satisfied: urllib3<1.25,>=1.21.1 in /usr/local/lib/python3.6/dist-packages (from requests>=2.1.0->twython) (1.24.3)\n",
            "Requirement already satisfied: certifi>=2017.4.17 in /usr/local/lib/python3.6/dist-packages (from requests>=2.1.0->twython) (2019.9.11)\n",
            "Requirement already satisfied: idna<2.9,>=2.5 in /usr/local/lib/python3.6/dist-packages (from requests>=2.1.0->twython) (2.8)\n",
            "Requirement already satisfied: chardet<3.1.0,>=3.0.2 in /usr/local/lib/python3.6/dist-packages (from requests>=2.1.0->twython) (3.0.4)\n",
            "Requirement already satisfied: oauthlib>=3.0.0 in /usr/local/lib/python3.6/dist-packages (from requests_oauthlib>=0.4.0->twython) (3.1.0)\n",
            "Building wheels for collected packages: twython\n",
            "  Building wheel for twython (setup.py) ... \u001b[?25l\u001b[?25hdone\n",
            "  Created wheel for twython: filename=twython-3.7.0-cp36-none-any.whl size=31995 sha256=3f4b3fd59ed3fb80c31a9a7743c7d0179bb2ba9acd9198d58cadae101c9c38f2\n",
            "  Stored in directory: /root/.cache/pip/wheels/c2/b0/a3/5c4b4b87b8c9e4d99f1494a0b471f0134a74e5fb33d426d009\n",
            "Successfully built twython\n",
            "Installing collected packages: twython\n",
            "Successfully installed twython-3.7.0\n"
          ],
          "name": "stdout"
        }
      ]
    },
    {
      "cell_type": "code",
      "metadata": {
        "id": "pIaNkeDpeiW2",
        "colab_type": "code",
        "colab": {}
      },
      "source": [
        "import tweepy\n",
        "import pandas as pd\n",
        "from nltk.sentiment.vader import SentimentIntensityAnalyzer"
      ],
      "execution_count": 0,
      "outputs": []
    },
    {
      "cell_type": "code",
      "metadata": {
        "id": "652nco1_ekdJ",
        "colab_type": "code",
        "colab": {}
      },
      "source": [
        "consumer_key = 'oxLHVfPjuJqAP1ABLk7Q7eSNj'\n",
        "consumer_secret = 'DTtHfjHFcNEcbc3VyX6KunpnQNBoRU2BCqG2Jq7OwqwUegcsZs'\n",
        "access_token = '345284058-c5Hh5cPlB9Wt3QnNOIuQ1ihB8pRokzb7iN7wsWm6'\n",
        "access_token_secret = 'MjuOKPnHAKQwtY6kSi6jPEsHL2y5BKs5Zu0b7Mhrljzyo'"
      ],
      "execution_count": 0,
      "outputs": []
    },
    {
      "cell_type": "code",
      "metadata": {
        "id": "cI5yCaR-fKWp",
        "colab_type": "code",
        "colab": {
          "base_uri": "https://localhost:8080/",
          "height": 204
        },
        "outputId": "1e30084e-8682-406f-97c5-86e75bb9f45f"
      },
      "source": [
        "auth = tweepy.OAuthHandler(consumer_key, consumer_secret)\n",
        "auth.set_access_token(access_token, access_token_secret)\n",
        "\n",
        "api = tweepy.API(auth)\n",
        "\n",
        "tweets = api.search('Artificial Intelligence', count=1100)\n",
        "\n",
        "\n",
        "data = pd.DataFrame(data=[tweet.text  for tweet in tweets], columns=['Tweets'])\n",
        "\n",
        "print(data.head(10))\n",
        "\n",
        "\n"
      ],
      "execution_count": 39,
      "outputs": [
        {
          "output_type": "stream",
          "text": [
            "                                              Tweets\n",
            "0  Artificial Intelligence Success Requires Partn...\n",
            "1  RT @innovation_coe: The CoE Innovation Centre ...\n",
            "2  Artificial intelligence was invented in 2011.\\...\n",
            "3  RT @hereisjoy87: According to Forbes, 62% of U...\n",
            "4  RT @andresvilarino: #ArtificialIntelligence &a...\n",
            "5  The future is now, and artificial intelligence...\n",
            "6  Artificial intelligence is not as much of a th...\n",
            "7  RT @andresvilarino: #ArtificialIntelligence &a...\n",
            "8  RT @andresvilarino: #ArtificialIntelligence &a...\n",
            "9  RT @washingtonpost: California has 33 million ...\n"
          ],
          "name": "stdout"
        }
      ]
    },
    {
      "cell_type": "code",
      "metadata": {
        "id": "kNBE0DKJgOE6",
        "colab_type": "code",
        "colab": {
          "base_uri": "https://localhost:8080/",
          "height": 51
        },
        "outputId": "99d9f02a-4f75-4313-9d98-d831b87bf668"
      },
      "source": [
        "\n",
        "import nltk\n",
        "nltk.download('vader_lexicon')"
      ],
      "execution_count": 13,
      "outputs": [
        {
          "output_type": "stream",
          "text": [
            "[nltk_data] Downloading package vader_lexicon to /root/nltk_data...\n"
          ],
          "name": "stdout"
        },
        {
          "output_type": "execute_result",
          "data": {
            "text/plain": [
              "True"
            ]
          },
          "metadata": {
            "tags": []
          },
          "execution_count": 13
        }
      ]
    },
    {
      "cell_type": "code",
      "metadata": {
        "id": "IJMG3HzKgP0Q",
        "colab_type": "code",
        "colab": {
          "base_uri": "https://localhost:8080/",
          "height": 376
        },
        "outputId": "02760b8e-8ee1-4922-be6f-94d1c9957c4a"
      },
      "source": [
        "sid = SentimentIntensityAnalyzer()\n",
        "\n",
        "\n",
        "listy = []\n",
        "print(listy)\n",
        "\n",
        "for index, row in data.iterrows():\n",
        "  ss = sid.polarity_scores(row[\"Tweets\"])\n",
        "  listy.append(ss)\n",
        "  \n",
        "se = pd.Series(listy)\n",
        "data['polarity'] = se.values\n",
        "\n",
        "display(data.head(10))"
      ],
      "execution_count": 50,
      "outputs": [
        {
          "output_type": "stream",
          "text": [
            "[]\n"
          ],
          "name": "stdout"
        },
        {
          "output_type": "display_data",
          "data": {
            "text/html": [
              "<div>\n",
              "<style scoped>\n",
              "    .dataframe tbody tr th:only-of-type {\n",
              "        vertical-align: middle;\n",
              "    }\n",
              "\n",
              "    .dataframe tbody tr th {\n",
              "        vertical-align: top;\n",
              "    }\n",
              "\n",
              "    .dataframe thead th {\n",
              "        text-align: right;\n",
              "    }\n",
              "</style>\n",
              "<table border=\"1\" class=\"dataframe\">\n",
              "  <thead>\n",
              "    <tr style=\"text-align: right;\">\n",
              "      <th></th>\n",
              "      <th>Tweets</th>\n",
              "      <th>polarity</th>\n",
              "    </tr>\n",
              "  </thead>\n",
              "  <tbody>\n",
              "    <tr>\n",
              "      <th>0</th>\n",
              "      <td>Artificial Intelligence Success Requires Partn...</td>\n",
              "      <td>{'neg': 0.0, 'neu': 0.469, 'pos': 0.531, 'comp...</td>\n",
              "    </tr>\n",
              "    <tr>\n",
              "      <th>1</th>\n",
              "      <td>RT @innovation_coe: The CoE Innovation Centre ...</td>\n",
              "      <td>{'neg': 0.0, 'neu': 0.691, 'pos': 0.309, 'comp...</td>\n",
              "    </tr>\n",
              "    <tr>\n",
              "      <th>2</th>\n",
              "      <td>Artificial intelligence was invented in 2011.\\...</td>\n",
              "      <td>{'neg': 0.0, 'neu': 0.807, 'pos': 0.193, 'comp...</td>\n",
              "    </tr>\n",
              "    <tr>\n",
              "      <th>3</th>\n",
              "      <td>RT @hereisjoy87: According to Forbes, 62% of U...</td>\n",
              "      <td>{'neg': 0.0, 'neu': 0.664, 'pos': 0.336, 'comp...</td>\n",
              "    </tr>\n",
              "    <tr>\n",
              "      <th>4</th>\n",
              "      <td>RT @andresvilarino: #ArtificialIntelligence &amp;a...</td>\n",
              "      <td>{'neg': 0.0, 'neu': 1.0, 'pos': 0.0, 'compound...</td>\n",
              "    </tr>\n",
              "    <tr>\n",
              "      <th>5</th>\n",
              "      <td>The future is now, and artificial intelligence...</td>\n",
              "      <td>{'neg': 0.0, 'neu': 0.766, 'pos': 0.234, 'comp...</td>\n",
              "    </tr>\n",
              "    <tr>\n",
              "      <th>6</th>\n",
              "      <td>Artificial intelligence is not as much of a th...</td>\n",
              "      <td>{'neg': 0.325, 'neu': 0.515, 'pos': 0.16, 'com...</td>\n",
              "    </tr>\n",
              "    <tr>\n",
              "      <th>7</th>\n",
              "      <td>RT @andresvilarino: #ArtificialIntelligence &amp;a...</td>\n",
              "      <td>{'neg': 0.0, 'neu': 1.0, 'pos': 0.0, 'compound...</td>\n",
              "    </tr>\n",
              "    <tr>\n",
              "      <th>8</th>\n",
              "      <td>RT @andresvilarino: #ArtificialIntelligence &amp;a...</td>\n",
              "      <td>{'neg': 0.0, 'neu': 1.0, 'pos': 0.0, 'compound...</td>\n",
              "    </tr>\n",
              "    <tr>\n",
              "      <th>9</th>\n",
              "      <td>RT @washingtonpost: California has 33 million ...</td>\n",
              "      <td>{'neg': 0.0, 'neu': 0.866, 'pos': 0.134, 'comp...</td>\n",
              "    </tr>\n",
              "  </tbody>\n",
              "</table>\n",
              "</div>"
            ],
            "text/plain": [
              "                                              Tweets                                           polarity\n",
              "0  Artificial Intelligence Success Requires Partn...  {'neg': 0.0, 'neu': 0.469, 'pos': 0.531, 'comp...\n",
              "1  RT @innovation_coe: The CoE Innovation Centre ...  {'neg': 0.0, 'neu': 0.691, 'pos': 0.309, 'comp...\n",
              "2  Artificial intelligence was invented in 2011.\\...  {'neg': 0.0, 'neu': 0.807, 'pos': 0.193, 'comp...\n",
              "3  RT @hereisjoy87: According to Forbes, 62% of U...  {'neg': 0.0, 'neu': 0.664, 'pos': 0.336, 'comp...\n",
              "4  RT @andresvilarino: #ArtificialIntelligence &a...  {'neg': 0.0, 'neu': 1.0, 'pos': 0.0, 'compound...\n",
              "5  The future is now, and artificial intelligence...  {'neg': 0.0, 'neu': 0.766, 'pos': 0.234, 'comp...\n",
              "6  Artificial intelligence is not as much of a th...  {'neg': 0.325, 'neu': 0.515, 'pos': 0.16, 'com...\n",
              "7  RT @andresvilarino: #ArtificialIntelligence &a...  {'neg': 0.0, 'neu': 1.0, 'pos': 0.0, 'compound...\n",
              "8  RT @andresvilarino: #ArtificialIntelligence &a...  {'neg': 0.0, 'neu': 1.0, 'pos': 0.0, 'compound...\n",
              "9  RT @washingtonpost: California has 33 million ...  {'neg': 0.0, 'neu': 0.866, 'pos': 0.134, 'comp..."
            ]
          },
          "metadata": {
            "tags": []
          }
        }
      ]
    }
  ]
}